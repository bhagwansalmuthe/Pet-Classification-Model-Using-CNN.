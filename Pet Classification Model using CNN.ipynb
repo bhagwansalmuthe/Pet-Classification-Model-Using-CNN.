{
 "cells": [
  {
   "cell_type": "code",
   "execution_count": null,
   "metadata": {},
   "outputs": [
    {
     "name": "stdout",
     "output_type": "stream",
     "text": [
      "Archive:  tf2.zip\n",
      "replace data/train/cats/2.jpg? [y]es, [n]o, [A]ll, [N]one, [r]ename: "
     ]
    }
   ],
   "source": [
    "!unzip tf2.zip\n",
    "ImageDataGenerator"
   ]
  },
  {
   "cell_type": "code",
   "execution_count": 1,
   "metadata": {},
   "outputs": [
    {
     "name": "stderr",
     "output_type": "stream",
     "text": [
      "Using TensorFlow backend.\n"
     ]
    }
   ],
   "source": [
    "import tensorflow as tf\n",
    "from tensorflow import keras\n",
    "from keras.preprocessing.image import ImageDataGenerator\n",
    "from tensorflow.keras import models, layers"
   ]
  },
  {
   "cell_type": "code",
   "execution_count": 2,
   "metadata": {},
   "outputs": [],
   "source": [
    "dataflow =ImageDataGenerator(rescale = 1.0 / 255.0)"
   ]
  },
  {
   "cell_type": "code",
   "execution_count": 3,
   "metadata": {},
   "outputs": [
    {
     "name": "stdout",
     "output_type": "stream",
     "text": [
      "Found 40 images belonging to 2 classes.\n"
     ]
    }
   ],
   "source": [
    "train = dataflow.flow_from_directory('./data/train', class_mode= 'binary')"
   ]
  },
  {
   "cell_type": "code",
   "execution_count": 5,
   "metadata": {},
   "outputs": [
    {
     "name": "stdout",
     "output_type": "stream",
     "text": [
      "Found 20 images belonging to 2 classes.\n"
     ]
    }
   ],
   "source": [
    "test = dataflow.flow_from_directory('./data/test', class_mode= 'binary')"
   ]
  },
  {
   "cell_type": "code",
   "execution_count": 7,
   "metadata": {},
   "outputs": [],
   "source": [
    "model = models.Sequential()\n",
    "model.add(layers.Conv2D(32, (5,5), activation = 'relu', padding = 'same', input_shape=(256, 256, 3)))\n",
    "model.add(layers.MaxPool2D(2,2))\n",
    "model.add(layers.Conv2D(64, (5,5), activation = 'relu'))\n",
    "model.add(layers.MaxPool2D(2,2))\n",
    "model.add(layers.Dropout(0.4))\n",
    "model.add(layers.Flatten())\n",
    "model.add(layers.Dense(32, activation = 'relu'))\n",
    "model.add(layers.Dense(1, activation = 'sigmoid'))"
   ]
  },
  {
   "cell_type": "code",
   "execution_count": 8,
   "metadata": {},
   "outputs": [],
   "source": [
    "sgd_opt = tf.keras.optimizers.SGD(lr = 0.01)"
   ]
  },
  {
   "cell_type": "code",
   "execution_count": 10,
   "metadata": {},
   "outputs": [],
   "source": [
    "model.compile( optimizer = sgd_opt, loss = 'binary_crossentropy', metrics = ['accuracy'])"
   ]
  },
  {
   "cell_type": "code",
   "execution_count": 11,
   "metadata": {},
   "outputs": [
    {
     "name": "stdout",
     "output_type": "stream",
     "text": [
      "WARNING:tensorflow:sample_weight modes were coerced from\n",
      "  ...\n",
      "    to  \n",
      "  ['...']\n",
      "WARNING:tensorflow:sample_weight modes were coerced from\n",
      "  ...\n",
      "    to  \n",
      "  ['...']\n",
      "Train for 2 steps, validate for 1 steps\n",
      "Epoch 1/100\n",
      "2/2 [==============================] - 12s 6s/step - loss: 0.7342 - accuracy: 0.5500 - val_loss: 0.8011 - val_accuracy: 0.5000\n",
      "Epoch 2/100\n",
      "2/2 [==============================] - 6s 3s/step - loss: 0.7661 - accuracy: 0.4500 - val_loss: 0.6991 - val_accuracy: 0.5000\n",
      "Epoch 3/100\n",
      "2/2 [==============================] - 6s 3s/step - loss: 0.6915 - accuracy: 0.5000 - val_loss: 0.6984 - val_accuracy: 0.5000\n",
      "Epoch 4/100\n",
      "2/2 [==============================] - 6s 3s/step - loss: 0.6901 - accuracy: 0.5000 - val_loss: 0.6980 - val_accuracy: 0.5000\n",
      "Epoch 5/100\n",
      "2/2 [==============================] - 6s 3s/step - loss: 0.6836 - accuracy: 0.5250 - val_loss: 0.6885 - val_accuracy: 0.5000\n",
      "Epoch 6/100\n",
      "2/2 [==============================] - 6s 3s/step - loss: 0.6771 - accuracy: 0.5500 - val_loss: 0.6898 - val_accuracy: 0.5000\n",
      "Epoch 7/100\n",
      "2/2 [==============================] - 6s 3s/step - loss: 0.6637 - accuracy: 0.5750 - val_loss: 0.6888 - val_accuracy: 0.6000\n",
      "Epoch 8/100\n",
      "2/2 [==============================] - 6s 3s/step - loss: 0.6682 - accuracy: 0.6000 - val_loss: 0.6883 - val_accuracy: 0.5000\n",
      "Epoch 9/100\n",
      "2/2 [==============================] - 6s 3s/step - loss: 0.6457 - accuracy: 0.6250 - val_loss: 0.6875 - val_accuracy: 0.6000\n",
      "Epoch 10/100\n",
      "2/2 [==============================] - 6s 3s/step - loss: 0.6468 - accuracy: 0.5500 - val_loss: 0.6853 - val_accuracy: 0.6000\n",
      "Epoch 11/100\n",
      "2/2 [==============================] - 6s 3s/step - loss: 0.6402 - accuracy: 0.6000 - val_loss: 0.6848 - val_accuracy: 0.6500\n",
      "Epoch 12/100\n",
      "2/2 [==============================] - 6s 3s/step - loss: 0.6264 - accuracy: 0.6000 - val_loss: 0.6838 - val_accuracy: 0.6500\n",
      "Epoch 13/100\n",
      "2/2 [==============================] - 6s 3s/step - loss: 0.6298 - accuracy: 0.5250 - val_loss: 0.6927 - val_accuracy: 0.6000\n",
      "Epoch 14/100\n",
      "2/2 [==============================] - 6s 3s/step - loss: 0.6150 - accuracy: 0.5500 - val_loss: 0.6995 - val_accuracy: 0.5500\n",
      "Epoch 15/100\n",
      "2/2 [==============================] - 6s 3s/step - loss: 0.7023 - accuracy: 0.5500 - val_loss: 0.8481 - val_accuracy: 0.5000\n",
      "Epoch 16/100\n",
      "2/2 [==============================] - 6s 3s/step - loss: 0.7279 - accuracy: 0.6000 - val_loss: 0.6826 - val_accuracy: 0.6500\n",
      "Epoch 17/100\n",
      "2/2 [==============================] - 6s 3s/step - loss: 0.5890 - accuracy: 0.7000 - val_loss: 0.6815 - val_accuracy: 0.6000\n",
      "Epoch 18/100\n",
      "2/2 [==============================] - 6s 3s/step - loss: 0.5577 - accuracy: 0.7500 - val_loss: 0.6820 - val_accuracy: 0.6000\n",
      "Epoch 19/100\n",
      "2/2 [==============================] - 6s 3s/step - loss: 0.5501 - accuracy: 0.7250 - val_loss: 0.6931 - val_accuracy: 0.6500\n",
      "Epoch 20/100\n",
      "2/2 [==============================] - 6s 3s/step - loss: 0.5346 - accuracy: 0.6750 - val_loss: 0.7210 - val_accuracy: 0.6000\n",
      "Epoch 21/100\n",
      "2/2 [==============================] - 6s 3s/step - loss: 0.5507 - accuracy: 0.6750 - val_loss: 0.9523 - val_accuracy: 0.5000\n",
      "Epoch 22/100\n",
      "2/2 [==============================] - 6s 3s/step - loss: 0.9041 - accuracy: 0.4750 - val_loss: 0.6833 - val_accuracy: 0.4500\n",
      "Epoch 23/100\n",
      "2/2 [==============================] - 6s 3s/step - loss: 0.5491 - accuracy: 0.7500 - val_loss: 0.6923 - val_accuracy: 0.6000\n",
      "Epoch 24/100\n",
      "2/2 [==============================] - 6s 3s/step - loss: 0.5122 - accuracy: 0.7750 - val_loss: 0.6967 - val_accuracy: 0.5500\n",
      "Epoch 25/100\n",
      "2/2 [==============================] - 6s 3s/step - loss: 0.4884 - accuracy: 0.7750 - val_loss: 0.7037 - val_accuracy: 0.5500\n",
      "Epoch 26/100\n",
      "2/2 [==============================] - 6s 3s/step - loss: 0.4753 - accuracy: 0.7250 - val_loss: 0.7127 - val_accuracy: 0.6000\n",
      "Epoch 27/100\n",
      "2/2 [==============================] - 6s 3s/step - loss: 0.4441 - accuracy: 0.8000 - val_loss: 0.7910 - val_accuracy: 0.6000\n",
      "Epoch 28/100\n",
      "2/2 [==============================] - 6s 3s/step - loss: 0.7161 - accuracy: 0.5500 - val_loss: 1.1849 - val_accuracy: 0.5000\n",
      "Epoch 29/100\n",
      "2/2 [==============================] - 6s 3s/step - loss: 0.7466 - accuracy: 0.4750 - val_loss: 0.6995 - val_accuracy: 0.4500\n",
      "Epoch 30/100\n",
      "2/2 [==============================] - 6s 3s/step - loss: 0.5118 - accuracy: 0.7500 - val_loss: 0.6921 - val_accuracy: 0.6000\n",
      "Epoch 31/100\n",
      "2/2 [==============================] - 6s 3s/step - loss: 0.4508 - accuracy: 0.7750 - val_loss: 0.7123 - val_accuracy: 0.6000\n",
      "Epoch 32/100\n",
      "2/2 [==============================] - 6s 3s/step - loss: 0.4207 - accuracy: 0.8000 - val_loss: 0.7405 - val_accuracy: 0.5000\n",
      "Epoch 33/100\n",
      "2/2 [==============================] - 6s 3s/step - loss: 0.4081 - accuracy: 0.8000 - val_loss: 0.8092 - val_accuracy: 0.4500\n",
      "Epoch 34/100\n",
      "2/2 [==============================] - 6s 3s/step - loss: 0.4865 - accuracy: 0.7000 - val_loss: 1.3088 - val_accuracy: 0.5000\n",
      "Epoch 35/100\n",
      "2/2 [==============================] - 6s 3s/step - loss: 0.8730 - accuracy: 0.5250 - val_loss: 0.6996 - val_accuracy: 0.4500\n",
      "Epoch 36/100\n",
      "2/2 [==============================] - 6s 3s/step - loss: 0.4455 - accuracy: 0.8000 - val_loss: 0.7171 - val_accuracy: 0.6000\n",
      "Epoch 37/100\n",
      "2/2 [==============================] - 6s 3s/step - loss: 0.3983 - accuracy: 0.8500 - val_loss: 0.7438 - val_accuracy: 0.5000\n",
      "Epoch 38/100\n",
      "2/2 [==============================] - 6s 3s/step - loss: 0.3823 - accuracy: 0.8250 - val_loss: 0.7679 - val_accuracy: 0.5000\n",
      "Epoch 39/100\n",
      "2/2 [==============================] - 6s 3s/step - loss: 0.3681 - accuracy: 0.8250 - val_loss: 0.7877 - val_accuracy: 0.5500\n",
      "Epoch 40/100\n",
      "2/2 [==============================] - 6s 3s/step - loss: 0.3472 - accuracy: 0.8250 - val_loss: 0.8213 - val_accuracy: 0.5000\n",
      "Epoch 41/100\n",
      "2/2 [==============================] - 6s 3s/step - loss: 0.3694 - accuracy: 0.8250 - val_loss: 1.1223 - val_accuracy: 0.5000\n",
      "Epoch 42/100\n",
      "2/2 [==============================] - 6s 3s/step - loss: 0.8903 - accuracy: 0.5250 - val_loss: 0.8239 - val_accuracy: 0.5000\n",
      "Epoch 43/100\n",
      "2/2 [==============================] - 6s 3s/step - loss: 0.5341 - accuracy: 0.6250 - val_loss: 0.7034 - val_accuracy: 0.6000\n",
      "Epoch 44/100\n",
      "2/2 [==============================] - 6s 3s/step - loss: 0.3803 - accuracy: 0.8500 - val_loss: 0.7364 - val_accuracy: 0.5500\n",
      "Epoch 45/100\n",
      "2/2 [==============================] - 6s 3s/step - loss: 0.3502 - accuracy: 0.8500 - val_loss: 0.7693 - val_accuracy: 0.5500\n",
      "Epoch 46/100\n",
      "2/2 [==============================] - 6s 3s/step - loss: 0.3426 - accuracy: 0.8000 - val_loss: 0.7982 - val_accuracy: 0.6000\n",
      "Epoch 47/100\n",
      "2/2 [==============================] - 6s 3s/step - loss: 0.3148 - accuracy: 0.8750 - val_loss: 0.8453 - val_accuracy: 0.6500\n",
      "Epoch 48/100\n",
      "2/2 [==============================] - 6s 3s/step - loss: 0.3262 - accuracy: 0.8500 - val_loss: 0.9937 - val_accuracy: 0.6000\n",
      "Epoch 49/100\n",
      "2/2 [==============================] - 6s 3s/step - loss: 0.6062 - accuracy: 0.6500 - val_loss: 1.0312 - val_accuracy: 0.4500\n",
      "Epoch 50/100\n",
      "2/2 [==============================] - 6s 3s/step - loss: 0.4429 - accuracy: 0.8000 - val_loss: 0.7411 - val_accuracy: 0.6500\n",
      "Epoch 51/100\n",
      "2/2 [==============================] - 6s 3s/step - loss: 0.3210 - accuracy: 0.8500 - val_loss: 0.7704 - val_accuracy: 0.6000\n",
      "Epoch 52/100\n",
      "2/2 [==============================] - 6s 3s/step - loss: 0.2968 - accuracy: 0.8750 - val_loss: 0.8034 - val_accuracy: 0.5500\n",
      "Epoch 53/100\n",
      "2/2 [==============================] - 6s 3s/step - loss: 0.2893 - accuracy: 0.8500 - val_loss: 0.8408 - val_accuracy: 0.5000\n",
      "Epoch 54/100\n",
      "2/2 [==============================] - 6s 3s/step - loss: 0.3018 - accuracy: 0.8250 - val_loss: 0.8902 - val_accuracy: 0.4500\n",
      "Epoch 55/100\n",
      "2/2 [==============================] - 6s 3s/step - loss: 0.2794 - accuracy: 0.8750 - val_loss: 0.9064 - val_accuracy: 0.4500\n",
      "Epoch 56/100\n",
      "2/2 [==============================] - 6s 3s/step - loss: 0.2552 - accuracy: 0.9250 - val_loss: 0.9267 - val_accuracy: 0.4500\n",
      "Epoch 57/100\n",
      "2/2 [==============================] - 6s 3s/step - loss: 0.3284 - accuracy: 0.8250 - val_loss: 1.0306 - val_accuracy: 0.5000\n",
      "Epoch 58/100\n",
      "2/2 [==============================] - 6s 3s/step - loss: 0.5224 - accuracy: 0.7750 - val_loss: 1.0254 - val_accuracy: 0.5000\n",
      "Epoch 59/100\n",
      "2/2 [==============================] - 6s 3s/step - loss: 0.4716 - accuracy: 0.7250 - val_loss: 0.7386 - val_accuracy: 0.5500\n",
      "Epoch 60/100\n",
      "2/2 [==============================] - 6s 3s/step - loss: 0.2646 - accuracy: 0.8750 - val_loss: 0.7810 - val_accuracy: 0.5500\n",
      "Epoch 61/100\n",
      "2/2 [==============================] - 6s 3s/step - loss: 0.2393 - accuracy: 0.9000 - val_loss: 0.8208 - val_accuracy: 0.6000\n",
      "Epoch 62/100\n",
      "2/2 [==============================] - 6s 3s/step - loss: 0.2290 - accuracy: 0.9000 - val_loss: 0.8557 - val_accuracy: 0.5500\n",
      "Epoch 63/100\n",
      "2/2 [==============================] - 6s 3s/step - loss: 0.2236 - accuracy: 0.8750 - val_loss: 0.8802 - val_accuracy: 0.6500\n",
      "Epoch 64/100\n",
      "2/2 [==============================] - 6s 3s/step - loss: 0.2092 - accuracy: 0.9000 - val_loss: 0.9281 - val_accuracy: 0.6500\n",
      "Epoch 65/100\n",
      "2/2 [==============================] - 6s 3s/step - loss: 0.2585 - accuracy: 0.8750 - val_loss: 0.9586 - val_accuracy: 0.6500\n",
      "Epoch 66/100\n",
      "2/2 [==============================] - 6s 3s/step - loss: 0.2395 - accuracy: 0.9000 - val_loss: 1.1212 - val_accuracy: 0.6000\n",
      "Epoch 67/100\n",
      "2/2 [==============================] - 6s 3s/step - loss: 0.2673 - accuracy: 0.8500 - val_loss: 1.1864 - val_accuracy: 0.6000\n",
      "Epoch 68/100\n",
      "2/2 [==============================] - 6s 3s/step - loss: 0.5862 - accuracy: 0.6500 - val_loss: 0.8273 - val_accuracy: 0.6500\n",
      "Epoch 69/100\n",
      "2/2 [==============================] - 6s 3s/step - loss: 0.2957 - accuracy: 0.8250 - val_loss: 0.7739 - val_accuracy: 0.5500\n",
      "Epoch 70/100\n",
      "2/2 [==============================] - 6s 3s/step - loss: 0.2178 - accuracy: 0.9500 - val_loss: 0.8254 - val_accuracy: 0.5500\n",
      "Epoch 71/100\n",
      "2/2 [==============================] - 6s 3s/step - loss: 0.1875 - accuracy: 0.9500 - val_loss: 0.8771 - val_accuracy: 0.6500\n",
      "Epoch 72/100\n",
      "2/2 [==============================] - 6s 3s/step - loss: 0.1773 - accuracy: 0.9250 - val_loss: 0.9079 - val_accuracy: 0.5500\n",
      "Epoch 73/100\n",
      "2/2 [==============================] - 6s 3s/step - loss: 0.1825 - accuracy: 0.9250 - val_loss: 0.9185 - val_accuracy: 0.5500\n",
      "Epoch 74/100\n",
      "2/2 [==============================] - 6s 3s/step - loss: 0.1815 - accuracy: 0.9500 - val_loss: 0.9547 - val_accuracy: 0.5500\n",
      "Epoch 75/100\n",
      "2/2 [==============================] - 6s 3s/step - loss: 0.1745 - accuracy: 0.9500 - val_loss: 0.9519 - val_accuracy: 0.5500\n",
      "Epoch 76/100\n",
      "2/2 [==============================] - 6s 3s/step - loss: 0.1541 - accuracy: 0.9500 - val_loss: 1.0600 - val_accuracy: 0.7000\n",
      "Epoch 77/100\n",
      "2/2 [==============================] - 6s 3s/step - loss: 0.1786 - accuracy: 0.9500 - val_loss: 1.0946 - val_accuracy: 0.7000\n",
      "Epoch 78/100\n",
      "2/2 [==============================] - 6s 3s/step - loss: 0.2429 - accuracy: 0.8250 - val_loss: 0.9650 - val_accuracy: 0.6500\n",
      "Epoch 79/100\n",
      "2/2 [==============================] - 6s 3s/step - loss: 0.1440 - accuracy: 0.9500 - val_loss: 0.9797 - val_accuracy: 0.6500\n",
      "Epoch 80/100\n",
      "2/2 [==============================] - 6s 3s/step - loss: 0.1217 - accuracy: 0.9750 - val_loss: 0.9982 - val_accuracy: 0.6500\n",
      "Epoch 81/100\n",
      "2/2 [==============================] - 6s 3s/step - loss: 0.1238 - accuracy: 0.9500 - val_loss: 1.0218 - val_accuracy: 0.6500\n",
      "Epoch 82/100\n",
      "2/2 [==============================] - 6s 3s/step - loss: 0.1104 - accuracy: 0.9500 - val_loss: 1.0429 - val_accuracy: 0.5500\n",
      "Epoch 83/100\n",
      "2/2 [==============================] - 6s 3s/step - loss: 0.1620 - accuracy: 0.9250 - val_loss: 1.0988 - val_accuracy: 0.5000\n",
      "Epoch 84/100\n",
      "2/2 [==============================] - 6s 3s/step - loss: 0.2078 - accuracy: 0.9250 - val_loss: 1.0925 - val_accuracy: 0.5500\n",
      "Epoch 85/100\n",
      "2/2 [==============================] - 6s 3s/step - loss: 0.2116 - accuracy: 0.8750 - val_loss: 0.9794 - val_accuracy: 0.5500\n",
      "Epoch 86/100\n",
      "2/2 [==============================] - 6s 3s/step - loss: 0.1159 - accuracy: 0.9750 - val_loss: 0.9726 - val_accuracy: 0.6000\n",
      "Epoch 87/100\n",
      "2/2 [==============================] - 6s 3s/step - loss: 0.0911 - accuracy: 0.9750 - val_loss: 0.9993 - val_accuracy: 0.6000\n",
      "Epoch 88/100\n",
      "2/2 [==============================] - 6s 3s/step - loss: 0.0847 - accuracy: 0.9750 - val_loss: 1.0178 - val_accuracy: 0.6000\n",
      "Epoch 89/100\n",
      "2/2 [==============================] - 6s 3s/step - loss: 0.0743 - accuracy: 0.9750 - val_loss: 1.0356 - val_accuracy: 0.6000\n",
      "Epoch 90/100\n",
      "2/2 [==============================] - 6s 3s/step - loss: 0.0803 - accuracy: 0.9750 - val_loss: 1.0730 - val_accuracy: 0.6500\n",
      "Epoch 91/100\n",
      "2/2 [==============================] - 6s 3s/step - loss: 0.0821 - accuracy: 1.0000 - val_loss: 1.1027 - val_accuracy: 0.5500\n",
      "Epoch 92/100\n",
      "2/2 [==============================] - 6s 3s/step - loss: 0.1199 - accuracy: 0.9750 - val_loss: 1.1351 - val_accuracy: 0.5000\n",
      "Epoch 93/100\n",
      "2/2 [==============================] - 6s 3s/step - loss: 0.1248 - accuracy: 0.9750 - val_loss: 1.0876 - val_accuracy: 0.5500\n",
      "Epoch 94/100\n",
      "2/2 [==============================] - 6s 3s/step - loss: 0.0694 - accuracy: 0.9750 - val_loss: 1.1631 - val_accuracy: 0.6500\n",
      "Epoch 95/100\n",
      "2/2 [==============================] - 6s 3s/step - loss: 0.1439 - accuracy: 0.9500 - val_loss: 1.1885 - val_accuracy: 0.6500\n",
      "Epoch 96/100\n",
      "2/2 [==============================] - 6s 3s/step - loss: 0.1266 - accuracy: 0.9250 - val_loss: 1.1057 - val_accuracy: 0.6000\n",
      "Epoch 97/100\n",
      "2/2 [==============================] - 6s 3s/step - loss: 0.0502 - accuracy: 1.0000 - val_loss: 1.1552 - val_accuracy: 0.6000\n",
      "Epoch 98/100\n",
      "2/2 [==============================] - 6s 3s/step - loss: 0.0751 - accuracy: 0.9750 - val_loss: 1.2689 - val_accuracy: 0.6500\n",
      "Epoch 99/100\n",
      "2/2 [==============================] - 6s 3s/step - loss: 0.0629 - accuracy: 1.0000 - val_loss: 1.1370 - val_accuracy: 0.5500\n",
      "Epoch 100/100\n",
      "2/2 [==============================] - 6s 3s/step - loss: 0.0478 - accuracy: 0.9750 - val_loss: 1.1506 - val_accuracy: 0.6000\n"
     ]
    },
    {
     "data": {
      "text/plain": [
       "<tensorflow.python.keras.callbacks.History at 0x7f1bf0655310>"
      ]
     },
     "execution_count": 11,
     "metadata": {},
     "output_type": "execute_result"
    }
   ],
   "source": [
    "model.fit(train, validation_data= test, epochs = 100)"
   ]
  },
  {
   "cell_type": "code",
   "execution_count": 12,
   "metadata": {},
   "outputs": [
    {
     "name": "stdout",
     "output_type": "stream",
     "text": [
      "WARNING:tensorflow:sample_weight modes were coerced from\n",
      "  ...\n",
      "    to  \n",
      "  ['...']\n",
      "1/1 [==============================] - 1s 729ms/step - loss: 1.1506 - accuracy: 0.6000\n"
     ]
    }
   ],
   "source": [
    "test_loss, test_accuracy = model.evaluate(test)"
   ]
  },
  {
   "cell_type": "code",
   "execution_count": 13,
   "metadata": {},
   "outputs": [
    {
     "data": {
      "text/plain": [
       "1.150573968887329"
      ]
     },
     "execution_count": 13,
     "metadata": {},
     "output_type": "execute_result"
    }
   ],
   "source": [
    "test_loss"
   ]
  },
  {
   "cell_type": "code",
   "execution_count": 14,
   "metadata": {},
   "outputs": [],
   "source": [
    "from matplotlib import pyplot as plt"
   ]
  },
  {
   "cell_type": "code",
   "execution_count": 18,
   "metadata": {},
   "outputs": [
    {
     "data": {
      "image/png": "[encoded data removed]",
      "text/plain": [
       "<Figure size 432x288 with 1 Axes>"
      ]
     },
     "metadata": {
      "needs_background": "light"
     },
     "output_type": "display_data"
    }
   ],
   "source": [
    "plt.plot(model.history.history['accuracy'])\n",
    "plt.plot(model.history.history['val_accuracy'])\n",
    "plt.title('Accuracy')\n",
    "plt.ylabel('accoracy')\n",
    "plt.xlabel('epochs')\n",
    "plt.legend(['train', 'test'], loc = 'upper right')\n",
    "plt.show()"
   ]
  },
  {
   "cell_type": "code",
   "execution_count": null,
   "metadata": {},
   "outputs": [],
   "source": []
  }
 ],
 "metadata": {
  "kernelspec": {
   "display_name": "Python 3",
   "language": "python",
   "name": "python3"
  },
  "language_info": {
   "codemirror_mode": {
    "name": "ipython",
    "version": 3
   },
   "file_extension": ".py",
   "mimetype": "text/x-python",
   "name": "python",
   "nbconvert_exporter": "python",
   "pygments_lexer": "ipython3",
   "version": "3.7.6"
  }
 },
 "nbformat": 4,
 "nbformat_minor": 4
}
